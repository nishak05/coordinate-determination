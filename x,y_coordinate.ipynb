{
  "nbformat": 4,
  "nbformat_minor": 0,
  "metadata": {
    "colab": {
      "provenance": []
    },
    "kernelspec": {
      "name": "python3",
      "display_name": "Python 3"
    },
    "language_info": {
      "name": "python"
    }
  },
  "cells": [
    {
      "cell_type": "code",
      "execution_count": null,
      "metadata": {
        "id": "ozkU3eDEXyqF"
      },
      "outputs": [],
      "source": [
        "import cv2\n",
        "import numpy as np"
      ]
    },
    {
      "cell_type": "code",
      "source": [
        "def mouse(event, x, y, flags, param):\n",
        "    global x1, y1, drawing, mode\n",
        "\n",
        "    if event == cv2.EVENT_LBUTTONDOWN:\n",
        "        print(f\"{(x),(y)}\")\n"
      ],
      "metadata": {
        "id": "K55AQmfXX6bj"
      },
      "execution_count": null,
      "outputs": []
    },
    {
      "cell_type": "code",
      "source": [
        "img=cv2.imread(\"butterfly.jpg\")\n",
        "cv2.imshow('image',img)\n",
        "cv2.setMouseCallback('image',mouse)"
      ],
      "metadata": {
        "id": "I65CiWb7X9E5"
      },
      "execution_count": null,
      "outputs": []
    },
    {
      "cell_type": "code",
      "source": [
        "cv2.waitKey(0)\n",
        "cv2.destroyAllWindows()"
      ],
      "metadata": {
        "id": "ShrBH9ZoYAAQ"
      },
      "execution_count": null,
      "outputs": []
    }
  ]
}